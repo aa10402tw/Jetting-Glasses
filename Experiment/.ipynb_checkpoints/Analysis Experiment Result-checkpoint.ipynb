{
 "cells": [
  {
   "cell_type": "code",
   "execution_count": 4,
   "metadata": {},
   "outputs": [
    {
     "name": "stderr",
     "output_type": "stream",
     "text": [
      "c:\\users\\user\\appdata\\local\\programs\\python\\python36\\lib\\importlib\\_bootstrap.py:219: ImportWarning: can't resolve package from __spec__ or __package__, falling back on __name__ and __path__\n",
      "  return f(*args, **kwds)\n",
      "c:\\users\\user\\appdata\\local\\programs\\python\\python36\\lib\\importlib\\_bootstrap.py:219: ImportWarning: can't resolve package from __spec__ or __package__, falling back on __name__ and __path__\n",
      "  return f(*args, **kwds)\n"
     ]
    }
   ],
   "source": [
    "import pandas as pd\n",
    "import glob\n",
    "import os"
   ]
  },
  {
   "cell_type": "code",
   "execution_count": 4,
   "metadata": {},
   "outputs": [],
   "source": [
    "def read_panticpant_data(name='', haptic=False):\n",
    "    if name:\n",
    "        subTitle = 'haptic' if haptic else 'no_haptic'\n",
    "        file_name = './data/csv/%s(%s).csv'%(name, subTitle)\n",
    "        df = pd.read_csv(file_name, sep='\\t')\n",
    "        return df"
   ]
  },
  {
   "cell_type": "code",
   "execution_count": 5,
   "metadata": {},
   "outputs": [
    {
     "data": {
      "text/html": [
       "<div>\n",
       "<style scoped>\n",
       "    .dataframe tbody tr th:only-of-type {\n",
       "        vertical-align: middle;\n",
       "    }\n",
       "\n",
       "    .dataframe tbody tr th {\n",
       "        vertical-align: top;\n",
       "    }\n",
       "\n",
       "    .dataframe thead th {\n",
       "        text-align: right;\n",
       "    }\n",
       "</style>\n",
       "<table border=\"1\" class=\"dataframe\">\n",
       "  <thead>\n",
       "    <tr style=\"text-align: right;\">\n",
       "      <th></th>\n",
       "      <th>img_name</th>\n",
       "      <th>pos</th>\n",
       "      <th>time</th>\n",
       "    </tr>\n",
       "  </thead>\n",
       "  <tbody>\n",
       "    <tr>\n",
       "      <th>0</th>\n",
       "      <td>data/no_haptic/KuanWen_middle_2_0.jpg</td>\n",
       "      <td>middle_2</td>\n",
       "      <td>1.713187</td>\n",
       "    </tr>\n",
       "    <tr>\n",
       "      <th>1</th>\n",
       "      <td>data/no_haptic/KuanWen_index_3_0.jpg</td>\n",
       "      <td>index_3</td>\n",
       "      <td>0.431025</td>\n",
       "    </tr>\n",
       "    <tr>\n",
       "      <th>2</th>\n",
       "      <td>data/no_haptic/KuanWen_ring_1_0.jpg</td>\n",
       "      <td>ring_1</td>\n",
       "      <td>0.608593</td>\n",
       "    </tr>\n",
       "    <tr>\n",
       "      <th>3</th>\n",
       "      <td>data/no_haptic/KuanWen_ring_2_0.jpg</td>\n",
       "      <td>ring_2</td>\n",
       "      <td>0.361088</td>\n",
       "    </tr>\n",
       "    <tr>\n",
       "      <th>4</th>\n",
       "      <td>data/no_haptic/KuanWen_little_1_0.jpg</td>\n",
       "      <td>little_1</td>\n",
       "      <td>0.560977</td>\n",
       "    </tr>\n",
       "  </tbody>\n",
       "</table>\n",
       "</div>"
      ],
      "text/plain": [
       "                                img_name       pos      time\n",
       "0  data/no_haptic/KuanWen_middle_2_0.jpg  middle_2  1.713187\n",
       "1   data/no_haptic/KuanWen_index_3_0.jpg   index_3  0.431025\n",
       "2    data/no_haptic/KuanWen_ring_1_0.jpg    ring_1  0.608593\n",
       "3    data/no_haptic/KuanWen_ring_2_0.jpg    ring_2  0.361088\n",
       "4  data/no_haptic/KuanWen_little_1_0.jpg  little_1  0.560977"
      ]
     },
     "execution_count": 5,
     "metadata": {},
     "output_type": "execute_result"
    }
   ],
   "source": [
    "df = read_panticpant_data(name='KuanWen', haptic=False)\n",
    "df.head()"
   ]
  },
  {
   "cell_type": "code",
   "execution_count": 7,
   "metadata": {},
   "outputs": [],
   "source": [
    "def remove_test_data():\n",
    "    for file_name in glob.glob('./data/haptic/*.jpg'):\n",
    "        if('test' in file_name):\n",
    "            os.remove(file_name)\n",
    "    for file_name in glob.glob('./data/no_haptic/*.jpg'):\n",
    "        if('test' in file_name):\n",
    "            os.remove(file_name)\n",
    "    for file_name in glob.glob('./data/csv/*.csv'):\n",
    "        if('test' in file_name):\n",
    "            os.remove(file_name)"
   ]
  },
  {
   "cell_type": "code",
   "execution_count": 8,
   "metadata": {},
   "outputs": [
    {
     "name": "stdout",
     "output_type": "stream",
     "text": [
      "True\n"
     ]
    }
   ],
   "source": [
    "remove_test_data()"
   ]
  },
  {
   "cell_type": "code",
   "execution_count": null,
   "metadata": {},
   "outputs": [],
   "source": []
  }
 ],
 "metadata": {
  "kernelspec": {
   "display_name": "Python 3",
   "language": "python",
   "name": "python3"
  },
  "language_info": {
   "codemirror_mode": {
    "name": "ipython",
    "version": 3
   },
   "file_extension": ".py",
   "mimetype": "text/x-python",
   "name": "python",
   "nbconvert_exporter": "python",
   "pygments_lexer": "ipython3",
   "version": "3.6.5"
  }
 },
 "nbformat": 4,
 "nbformat_minor": 2
}
