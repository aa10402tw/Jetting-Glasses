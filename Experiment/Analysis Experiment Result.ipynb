{
 "cells": [
  {
   "cell_type": "code",
   "execution_count": 1,
   "metadata": {},
   "outputs": [
    {
     "name": "stderr",
     "output_type": "stream",
     "text": [
      "c:\\users\\user\\appdata\\local\\programs\\python\\python36\\lib\\importlib\\_bootstrap.py:219: ImportWarning: can't resolve package from __spec__ or __package__, falling back on __name__ and __path__\n",
      "  return f(*args, **kwds)\n",
      "c:\\users\\user\\appdata\\local\\programs\\python\\python36\\lib\\importlib\\_bootstrap.py:219: ImportWarning: can't resolve package from __spec__ or __package__, falling back on __name__ and __path__\n",
      "  return f(*args, **kwds)\n"
     ]
    }
   ],
   "source": [
    "import pandas as pd\n",
    "import glob\n",
    "import os"
   ]
  },
  {
   "cell_type": "code",
   "execution_count": 2,
   "metadata": {},
   "outputs": [],
   "source": [
    "def read_panticpant_data(name='', haptic=False):\n",
    "    if name:\n",
    "        subTitle = 'haptic' if haptic else 'no_haptic'\n",
    "        file_name = './data/csv/%s(%s).csv'%(name, subTitle)\n",
    "        df = pd.read_csv(file_name, sep='\\t')\n",
    "        return df"
   ]
  },
  {
   "cell_type": "code",
   "execution_count": 3,
   "metadata": {},
   "outputs": [
    {
     "data": {
      "text/html": [
       "<div>\n",
       "<style scoped>\n",
       "    .dataframe tbody tr th:only-of-type {\n",
       "        vertical-align: middle;\n",
       "    }\n",
       "\n",
       "    .dataframe tbody tr th {\n",
       "        vertical-align: top;\n",
       "    }\n",
       "\n",
       "    .dataframe thead th {\n",
       "        text-align: right;\n",
       "    }\n",
       "</style>\n",
       "<table border=\"1\" class=\"dataframe\">\n",
       "  <thead>\n",
       "    <tr style=\"text-align: right;\">\n",
       "      <th></th>\n",
       "      <th>img_name</th>\n",
       "      <th>pos</th>\n",
       "      <th>time</th>\n",
       "    </tr>\n",
       "  </thead>\n",
       "  <tbody>\n",
       "    <tr>\n",
       "      <th>0</th>\n",
       "      <td>data/haptic/test/index_1_0.jpg</td>\n",
       "      <td>index_1</td>\n",
       "      <td>0.423584</td>\n",
       "    </tr>\n",
       "    <tr>\n",
       "      <th>1</th>\n",
       "      <td>data/haptic/test/middle_1_0.jpg</td>\n",
       "      <td>middle_1</td>\n",
       "      <td>0.198896</td>\n",
       "    </tr>\n",
       "    <tr>\n",
       "      <th>2</th>\n",
       "      <td>data/haptic/test/middle_2_0.jpg</td>\n",
       "      <td>middle_2</td>\n",
       "      <td>0.203855</td>\n",
       "    </tr>\n",
       "    <tr>\n",
       "      <th>3</th>\n",
       "      <td>data/haptic/test/ring_3_0.jpg</td>\n",
       "      <td>ring_3</td>\n",
       "      <td>0.195424</td>\n",
       "    </tr>\n",
       "    <tr>\n",
       "      <th>4</th>\n",
       "      <td>data/haptic/test/index_2_0.jpg</td>\n",
       "      <td>index_2</td>\n",
       "      <td>0.179056</td>\n",
       "    </tr>\n",
       "  </tbody>\n",
       "</table>\n",
       "</div>"
      ],
      "text/plain": [
       "                          img_name       pos      time\n",
       "0   data/haptic/test/index_1_0.jpg   index_1  0.423584\n",
       "1  data/haptic/test/middle_1_0.jpg  middle_1  0.198896\n",
       "2  data/haptic/test/middle_2_0.jpg  middle_2  0.203855\n",
       "3    data/haptic/test/ring_3_0.jpg    ring_3  0.195424\n",
       "4   data/haptic/test/index_2_0.jpg   index_2  0.179056"
      ]
     },
     "execution_count": 3,
     "metadata": {},
     "output_type": "execute_result"
    }
   ],
   "source": [
    "df = read_panticpant_data(name='test', haptic=True)\n",
    "df.head()"
   ]
  },
  {
   "cell_type": "code",
   "execution_count": 5,
   "metadata": {},
   "outputs": [
    {
     "name": "stdout",
     "output_type": "stream",
     "text": [
      "data/haptic/test/index_1_0.jpg index_1 0.4235837459564209\n",
      "data/haptic/test/middle_1_0.jpg middle_1 0.19889569282531736\n",
      "data/haptic/test/middle_2_0.jpg middle_2 0.20385527610778809\n",
      "data/haptic/test/ring_3_0.jpg ring_3 0.19542384147644046\n",
      "data/haptic/test/index_2_0.jpg index_2 0.17905592918395996\n",
      "data/haptic/test/ring_1_0.jpg ring_1 0.1959199905395508\n",
      "data/haptic/test/middle_3_0.jpg middle_3 0.179551362991333\n",
      "data/haptic/test/ring_2_0.jpg ring_2 0.2212166786193848\n",
      "data/haptic/test/index_3_0.jpg index_3 0.22568035125732425\n",
      "data/haptic/test/ring_2_1.jpg ring_2 0.1616954803466797\n",
      "data/haptic/test/middle_3_1.jpg middle_3 0.21724748611450195\n",
      "data/haptic/test/ring_1_1.jpg ring_1 0.2499842643737793\n",
      "data/haptic/test/middle_1_1.jpg middle_1 0.2217116355895996\n",
      "data/haptic/test/ring_3_1.jpg ring_3 0.21327948570251465\n",
      "data/haptic/test/index_1_1.jpg index_1 0.21923208236694336\n",
      "data/haptic/test/middle_2_1.jpg middle_2 0.2489917278289795\n",
      "data/haptic/test/index_2_1.jpg index_2 0.21030378341674805\n",
      "data/haptic/test/index_3_1.jpg index_3 0.16417527198791504\n",
      "data/haptic/test/ring_3_2.jpg ring_3 0.22865557670593264\n",
      "data/haptic/test/index_2_2.jpg index_2 0.25742411613464355\n",
      "data/haptic/test/middle_3_2.jpg middle_3 0.21030378341674805\n",
      "data/haptic/test/middle_2_2.jpg middle_2 0.192943811416626\n",
      "data/haptic/test/middle_1_2.jpg middle_1 0.2127833366394043\n",
      "data/haptic/test/ring_2_2.jpg ring_2 0.22766351699829104\n",
      "data/haptic/test/index_3_2.jpg index_3 0.2727999687194824\n",
      "data/haptic/test/ring_1_2.jpg ring_1 0.19492769241333008\n",
      "data/haptic/test/index_1_2.jpg index_1 2.00830626487732\n",
      "data/haptic/test/ring_2_3.jpg ring_2 2.098579406738281\n"
     ]
    }
   ],
   "source": [
    "for img_src, pos, time in zip(df['img_name'], df['pos'], df['time']):\n",
    "    print(img_src, pos, time)"
   ]
  },
  {
   "cell_type": "code",
   "execution_count": 9,
   "metadata": {},
   "outputs": [],
   "source": [
    "import shutil\n",
    "\n",
    "def remove_test_data():\n",
    "    if os.path.exists('./data/haptic/test'):\n",
    "        shutil.rmtree('./data/haptic/test')\n",
    "    if os.path.exists('./data/no_haptic/test'):\n",
    "        shutil.rmtree('./data/no_haptic/test')\n",
    "    for file_name in glob.glob('./data/csv/*.csv'):\n",
    "        if('test' in file_name):\n",
    "            os.remove(file_name)"
   ]
  },
  {
   "cell_type": "code",
   "execution_count": 10,
   "metadata": {},
   "outputs": [
    {
     "ename": "NameError",
     "evalue": "name 'os' is not defined",
     "output_type": "error",
     "traceback": [
      "\u001b[1;31m---------------------------------------------------------------------------\u001b[0m",
      "\u001b[1;31mNameError\u001b[0m                                 Traceback (most recent call last)",
      "\u001b[1;32m<ipython-input-10-cd54646107cd>\u001b[0m in \u001b[0;36m<module>\u001b[1;34m()\u001b[0m\n\u001b[1;32m----> 1\u001b[1;33m \u001b[0mremove_test_data\u001b[0m\u001b[1;33m(\u001b[0m\u001b[1;33m)\u001b[0m\u001b[1;33m\u001b[0m\u001b[0m\n\u001b[0m",
      "\u001b[1;32m<ipython-input-9-f37df8049c19>\u001b[0m in \u001b[0;36mremove_test_data\u001b[1;34m()\u001b[0m\n\u001b[0;32m      2\u001b[0m     \u001b[1;32mfor\u001b[0m \u001b[0mfile_name\u001b[0m \u001b[1;32min\u001b[0m \u001b[0mglob\u001b[0m\u001b[1;33m.\u001b[0m\u001b[0mglob\u001b[0m\u001b[1;33m(\u001b[0m\u001b[1;34m'./data/haptic/*.jpg'\u001b[0m\u001b[1;33m)\u001b[0m\u001b[1;33m:\u001b[0m\u001b[1;33m\u001b[0m\u001b[0m\n\u001b[0;32m      3\u001b[0m         \u001b[1;32mif\u001b[0m\u001b[1;33m(\u001b[0m\u001b[1;34m'test'\u001b[0m \u001b[1;32min\u001b[0m \u001b[0mfile_name\u001b[0m\u001b[1;33m)\u001b[0m\u001b[1;33m:\u001b[0m\u001b[1;33m\u001b[0m\u001b[0m\n\u001b[1;32m----> 4\u001b[1;33m             \u001b[0mos\u001b[0m\u001b[1;33m.\u001b[0m\u001b[0mremove\u001b[0m\u001b[1;33m(\u001b[0m\u001b[0mfile_name\u001b[0m\u001b[1;33m)\u001b[0m\u001b[1;33m\u001b[0m\u001b[0m\n\u001b[0m\u001b[0;32m      5\u001b[0m     \u001b[1;32mfor\u001b[0m \u001b[0mfile_name\u001b[0m \u001b[1;32min\u001b[0m \u001b[0mglob\u001b[0m\u001b[1;33m.\u001b[0m\u001b[0mglob\u001b[0m\u001b[1;33m(\u001b[0m\u001b[1;34m'./data/no_haptic/*.jpg'\u001b[0m\u001b[1;33m)\u001b[0m\u001b[1;33m:\u001b[0m\u001b[1;33m\u001b[0m\u001b[0m\n\u001b[0;32m      6\u001b[0m         \u001b[1;32mif\u001b[0m\u001b[1;33m(\u001b[0m\u001b[1;34m'test'\u001b[0m \u001b[1;32min\u001b[0m \u001b[0mfile_name\u001b[0m\u001b[1;33m)\u001b[0m\u001b[1;33m:\u001b[0m\u001b[1;33m\u001b[0m\u001b[0m\n",
      "\u001b[1;31mNameError\u001b[0m: name 'os' is not defined"
     ]
    }
   ],
   "source": [
    "remove_test_data()"
   ]
  },
  {
   "cell_type": "code",
   "execution_count": null,
   "metadata": {},
   "outputs": [],
   "source": []
  }
 ],
 "metadata": {
  "kernelspec": {
   "display_name": "Python 3",
   "language": "python",
   "name": "python3"
  },
  "language_info": {
   "codemirror_mode": {
    "name": "ipython",
    "version": 3
   },
   "file_extension": ".py",
   "mimetype": "text/x-python",
   "name": "python",
   "nbconvert_exporter": "python",
   "pygments_lexer": "ipython3",
   "version": "3.6.5"
  }
 },
 "nbformat": 4,
 "nbformat_minor": 2
}
