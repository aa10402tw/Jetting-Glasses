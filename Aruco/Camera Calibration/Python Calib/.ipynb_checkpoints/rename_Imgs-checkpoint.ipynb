{
 "cells": [
  {
   "cell_type": "code",
   "execution_count": 6,
   "metadata": {},
   "outputs": [],
   "source": [
    "import os \n",
    "import glob\n",
    "import cv2"
   ]
  },
  {
   "cell_type": "code",
   "execution_count": 7,
   "metadata": {},
   "outputs": [
    {
     "name": "stdout",
     "output_type": "stream",
     "text": [
      "number of imgs: 19\n"
     ]
    }
   ],
   "source": [
    "for i, img_src in enumerate(glob.glob('./aruco_data/*.jpg')):\n",
    "    img = cv2.imread(img_src)\n",
    "    img_name = './aruco_data/' + str(i) + '.jpg'\n",
    "    cv2.imwrite(img_name, img)\n",
    "    os.remove(img_src)\n",
    "print('number of imgs:', i+1)"
   ]
  },
  {
   "cell_type": "code",
   "execution_count": null,
   "metadata": {},
   "outputs": [],
   "source": []
  }
 ],
 "metadata": {
  "kernelspec": {
   "display_name": "Python 3",
   "language": "python",
   "name": "python3"
  },
  "language_info": {
   "codemirror_mode": {
    "name": "ipython",
    "version": 3
   },
   "file_extension": ".py",
   "mimetype": "text/x-python",
   "name": "python",
   "nbconvert_exporter": "python",
   "pygments_lexer": "ipython3",
   "version": "3.6.5"
  }
 },
 "nbformat": 4,
 "nbformat_minor": 2
}
